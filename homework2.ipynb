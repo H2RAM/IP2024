{
 "cells": [
  {
   "cell_type": "markdown",
   "metadata": {},
   "source": [
    "#### Homework 2 : https://youtu.be/g_4w9NFoUUs"
   ]
  },
  {
   "cell_type": "code",
   "execution_count": 12,
   "metadata": {},
   "outputs": [],
   "source": [
    "import cv2\n",
    "import numpy as np\n",
    "from matplotlib import pyplot as plt"
   ]
  },
  {
   "cell_type": "code",
   "execution_count": 13,
   "metadata": {},
   "outputs": [],
   "source": [
    "def nothing(x):\n",
    "    pass\n",
    "cap = cv2.VideoCapture('tracking.mp4')\n",
    "cv2.namedWindow('image')\n",
    "cv2.createTrackbar('min','image', 0, 360, nothing)\n",
    "cv2.createTrackbar('max','image', 0, 360, nothing)\n",
    "\n",
    "while(cap.isOpened()):\n",
    "    # Take each frame\n",
    "    ret, frame = cap.read()\n",
    "    if ret == False:\n",
    "        break\n",
    "    hsv = cv2.cvtColor(frame, cv2.COLOR_RGB2HSV)\n",
    "    hus_min = cv2.getTrackbarPos('min', 'image')\n",
    "    hus_max = cv2.getTrackbarPos('max', 'image')\n",
    "    lower_blue = np.array([hus_min,50,50])\n",
    "    upper_blue = np.array([hus_max,255,255])\n",
    "    \n",
    "    mask = cv2.inRange(hsv, lower_blue, upper_blue)\n",
    "    \n",
    "    res = cv2.bitwise_and(frame,frame, mask= mask)\n",
    "\n",
    "    cv2.imshow('frame',frame)\n",
    "    cv2.imshow('mask',mask)\n",
    "    cv2.imshow('res',res)\n",
    "    k = cv2.waitKey(50) & 0xFF\n",
    "    if k == 27:\n",
    "        break\n",
    "cap.release()\n",
    "cv2.destroyAllWindows()"
   ]
  }
 ],
 "metadata": {
  "kernelspec": {
   "display_name": "IP2024",
   "language": "python",
   "name": "python3"
  },
  "language_info": {
   "codemirror_mode": {
    "name": "ipython",
    "version": 3
   },
   "file_extension": ".py",
   "mimetype": "text/x-python",
   "name": "python",
   "nbconvert_exporter": "python",
   "pygments_lexer": "ipython3",
   "version": "3.8.20"
  }
 },
 "nbformat": 4,
 "nbformat_minor": 2
}
