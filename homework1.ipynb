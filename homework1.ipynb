{
 "cells": [
  {
   "cell_type": "markdown",
   "metadata": {},
   "source": [
    "##### hw1 : https://youtu.be/DRMLF4hyOYg"
   ]
  },
  {
   "cell_type": "code",
   "execution_count": 28,
   "metadata": {},
   "outputs": [],
   "source": [
    "import cv2\n",
    "import numpy as np\n",
    "def nothing(x):\n",
    "    pass"
   ]
  },
  {
   "cell_type": "code",
   "execution_count": 29,
   "metadata": {},
   "outputs": [],
   "source": [
    "drawing = False \n",
    "mode = True \n",
    "ix,iy = -1,-1\n",
    "font = cv2.FONT_HERSHEY_SIMPLEX\n",
    "last_mouse_position = None\n",
    "\n",
    "def draw_circle(event,x,y,flags,param):\n",
    "    global ix,iy,drawing,mode,last_mouse_position\n",
    "\n",
    "    if event == cv2.EVENT_LBUTTONDOWN:\n",
    "        drawing = True\n",
    "        ix,iy = x,y\n",
    "    elif event == cv2.EVENT_MOUSEMOVE:\n",
    "        last_mouse_position = (x, y)  \n",
    "        if drawing:\n",
    "            \n",
    "            img_copy = img.copy() \n",
    "            img_copy[iy:y, ix:x, 2] = 255 \n",
    "            cv2.imshow('image', img_copy)\n",
    "        else:\n",
    "            img_copy = img.copy()\n",
    "        \n",
    "        cv2.putText(img_copy, f'Mouse Position ({x}, {y})', (10, 50), font, 0.7, (255, 255, 255), 1, cv2.LINE_AA)\n",
    "        cv2.imshow('image', img_copy)  \n",
    "\n",
    "    elif event == cv2.EVENT_LBUTTONUP:\n",
    "        drawing = False\n",
    "        img[iy:y, ix:x, 2] = 255 \n",
    "        cv2.imshow('image', img)"
   ]
  },
  {
   "cell_type": "code",
   "execution_count": 30,
   "metadata": {},
   "outputs": [],
   "source": [
    "img = cv2.imread('messi5.jpg')\n",
    "cv2.namedWindow('image')\n",
    "cv2.setMouseCallback('image',draw_circle)\n",
    "cv2.createTrackbar('R','image',0,255,nothing)\n",
    "while True:\n",
    "    \n",
    "    if last_mouse_position is not None:\n",
    "        x, y = last_mouse_position\n",
    "        img_with_text = img.copy()\n",
    "        cv2.putText(img_with_text, f'Mouse Position ({x}, {y})', (10, 50), font, 0.7, (255, 255, 255), 1, cv2.LINE_AA)\n",
    "        cv2.imshow('image', img_with_text)\n",
    "    else:\n",
    "        cv2.imshow('image', img)\n",
    "    \n",
    "    k = cv2.waitKey(1) & 0xFF\n",
    "    if k == ord('m'):\n",
    "        mode = not mode\n",
    "    elif k == 27:\n",
    "        break\n",
    "\n",
    "cv2.destroyAllWindows()"
   ]
  }
 ],
 "metadata": {
  "kernelspec": {
   "display_name": "IP2024",
   "language": "python",
   "name": "python3"
  },
  "language_info": {
   "codemirror_mode": {
    "name": "ipython",
    "version": 3
   },
   "file_extension": ".py",
   "mimetype": "text/x-python",
   "name": "python",
   "nbconvert_exporter": "python",
   "pygments_lexer": "ipython3",
   "version": "3.8.20"
  }
 },
 "nbformat": 4,
 "nbformat_minor": 2
}
